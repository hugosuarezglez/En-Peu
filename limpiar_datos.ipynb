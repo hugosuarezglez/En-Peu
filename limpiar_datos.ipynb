{
 "cells": [
  {
   "cell_type": "markdown",
   "id": "f6c18242",
   "metadata": {},
   "source": [
    "# Conversión de los datos para utilizarlos en el modelo"
   ]
  },
  {
   "cell_type": "markdown",
   "id": "c32824eb",
   "metadata": {},
   "source": [
    "Hay que aplicar algunas transformaciones al conjunto de datos para poder utilizarlos. Las variables que tenemos son las siguientes:\n",
    "\n",
    "A: Altitud. Variable numérica que representa la elevación del terreno respecto al nivel del mar.\n",
    "\n",
    "\n",
    "AC: Anchura de calles y otros espacios abiertos. Variable categórica que se transformó en numérica mediante la asignación de valores medios por rango.\n",
    "\n",
    "\n",
    "B: Indica si una celda corresponde a un barranco (valor 0) o no (valor 1). Variable binaria.\n",
    "\n",
    "\n",
    "CICCB: Capacidad de inundación según la curvatura del cauce del barranco. Variable numérica que estima la acumulación de agua en función de la curvatura del terreno.\n",
    "\n",
    "\n",
    "CIB: Capacidad de inundación del barranco considerando su sección y situación. Variable numérica que refleja la influencia conjunta de la profundidad y anchura del cauce.\n",
    "\n",
    "\n",
    "CUS: Cobertura y uso del suelo. Variable categórica con los siguientes niveles:\n",
    "\n",
    "\n",
    "1: Cultivos\n",
    "\n",
    "\n",
    "2: Edificios de cualquier uso\n",
    "\n",
    "\n",
    "3: Espacios de suelo desnudo\n",
    "\n",
    "\n",
    "4: Espacios verdes urbanos\n",
    "\n",
    "\n",
    "5: Sistema vial\n",
    "\n",
    "\n",
    "DBB: Distancia al borde del cauce del barranco. Variable numérica, medida en metros.\n",
    "\n",
    "\n",
    "DOB: Distancia a obstáculos en el cauce del barranco. Variable numérica, también en metros.\n",
    "\n",
    "\n",
    "OC: Orientación de calles y otros espacios abiertos. Variable categórica con los siguientes niveles:\n",
    "\n",
    "\n",
    "1: Oblicua\n",
    "\n",
    "\n",
    "2: Paralela\n",
    "\n",
    "\n",
    "3: Perpendicular\n",
    "\n",
    "\n",
    "4: Otras\n",
    "\n",
    "\n",
    "P: Pendiente del terreno. Variable numérica expresada en porcentaje, que representa la inclinación del terreno.\n"
   ]
  },
  {
   "cell_type": "markdown",
   "id": "63c7a7f0",
   "metadata": {},
   "source": [
    "En el conjunto de variables que tenemos, existe una, B, que indica si los datos obtenidos provienen del barranco o no. Los datos que pertenezcan al barranco no sirven, por lo tanto hay que proceder a eliminar todas las filas en las que B = 1."
   ]
  },
  {
   "cell_type": "code",
   "execution_count": 1,
   "id": "5ef6d015",
   "metadata": {},
   "outputs": [
    {
     "name": "stdout",
     "output_type": "stream",
     "text": [
      "Conteo de valores en la columna 'B':\n",
      "0    64860\n",
      "1     2352\n",
      "Name: B, dtype: int64\n",
      "\n",
      "Primeras filas del DataFrame después de filtrar y eliminar la columna 'B':\n",
      "         POINT_X       POINT_Y  PLA  grid_cod          A  AC          CIB  \\\n",
      "0  722404.251470  4.365852e+06  0.0      6909  17.955999  11 -9999.000000   \n",
      "1  722396.507981  4.365860e+06  0.0      7246  18.179501   4     0.271946   \n",
      "2  722404.245816  4.365860e+06  0.0      7247  18.274900  11     0.269777   \n",
      "3  722411.983652  4.365860e+06  0.0      7248  18.229401  11     0.267608   \n",
      "4  722419.721567  4.365860e+06  0.0      7249  17.900000  11 -9999.000000   \n",
      "\n",
      "      CICCB  CUS         DBB          DOB  OC         P  \n",
      "0  0.448429    1  848.570984     0.000000   4  4.771400  \n",
      "1  0.450929    5  855.966980     0.000000   4  1.352900  \n",
      "2  0.449347    1  847.986023  1110.060059   4  0.436232  \n",
      "3  0.447738    1  842.000000  1102.219971   4  2.990650  \n",
      "4  0.446101    1  834.018982  1094.489990   4  8.666000  \n"
     ]
    }
   ],
   "source": [
    "import pandas as pd\n",
    "import numpy as np\n",
    "\n",
    "\n",
    "data = pd.read_csv(\"D:/HUGO/MAtriX/datos_combinados.csv\")\n",
    "\n",
    "# Vemos cuántas filas hay con 'B' y sin 'B'\n",
    "print(\"Conteo de valores en la columna 'B':\")\n",
    "print(data['B'].value_counts(dropna=False)) # dropna=False para incluir conteo de NaNs si los hay\n",
    "\n",
    "# Eliminamos las filas donde 'B' sea igual a 1 y luego quitamos 'B' de data\n",
    "# Filtrar filas: data[data['B'] != 1] selecciona todas las filas donde 'B' no es 1\n",
    "# Eliminar columna: .drop('B', axis=1) elimina la columna 'B'. axis=1 indica que es una columna.\n",
    "data = data[data['B'] != 1].drop('B', axis=1)\n",
    "\n",
    "print(\"\\nPrimeras filas del DataFrame después de filtrar y eliminar la columna 'B':\")\n",
    "print(data.head())"
   ]
  },
  {
   "cell_type": "markdown",
   "id": "b60d4a85",
   "metadata": {},
   "source": [
    "Algunas variables tienen como valor -9999, esto es un valor que no aporta nada al modelo y hay que eliminar las filas que contengan esos valores. Luego obtenemos la cantidad de filas eliminadas, para ver si es un número grande que afectaría mucho al modelo."
   ]
  },
  {
   "cell_type": "code",
   "execution_count": 2,
   "id": "02460bcb",
   "metadata": {},
   "outputs": [
    {
     "name": "stdout",
     "output_type": "stream",
     "text": [
      "Filas eliminadas: 450\n"
     ]
    }
   ],
   "source": [
    "# Almacenar la longitud inicial del DataFrame\n",
    "len_antes_eliminar = len(data)\n",
    "\n",
    "# Eliminar filas que contengan el valor -9999 en cualquier columna\n",
    "# data == -9999 crea un DataFrame booleano (True donde hay -9999)\n",
    "# .any(axis=1) verifica si alguna columna en esa fila es True (es decir, tiene -9999)\n",
    "# ~ niega la máscara, seleccionando las filas que NO tienen -9999\n",
    "data = data[~(data == -9999).any(axis=1)]\n",
    "\n",
    "# Almacenar la longitud final\n",
    "len_despues_eliminar = len(data)\n",
    "\n",
    "# Mostrar la cantidad de filas eliminadas\n",
    "print(f\"Filas eliminadas: {len_antes_eliminar - len_despues_eliminar}\")"
   ]
  },
  {
   "cell_type": "markdown",
   "id": "7232b357",
   "metadata": {},
   "source": [
    "Ahora sustituímos las categorías de AC (anchura de calles) por el valor medio de cada rango."
   ]
  },
  {
   "cell_type": "code",
   "execution_count": 3,
   "id": "d1e8153c",
   "metadata": {},
   "outputs": [
    {
     "name": "stdout",
     "output_type": "stream",
     "text": [
      "\n",
      "Conteo de valores en la columna 'AC' después de la sustitución:\n",
      "225.05    18936\n",
      "75.05     12089\n",
      "18.05      5560\n",
      "45.05      5506\n",
      "35.05      5472\n",
      "25.55      4851\n",
      "135.05     3871\n",
      "14.05      3739\n",
      "110.05     2103\n",
      "9.05       2101\n",
      "3.00        182\n",
      "Name: AC, dtype: int64\n",
      "\n",
      "Tipo de dato de la columna 'AC' después de la sustitución:\n",
      "float64\n"
     ]
    }
   ],
   "source": [
    "# Hacemos la lista con las medias, y ponemos 0 al principio porque python cuenta desde 0\n",
    "medias= [0, 3, 9.05, 14.05, 18.05, 25.55, 35.05, 45.05, 75.05, 110.05, 135.05, 225.05] \n",
    "\n",
    "# Convertimos la lista de medias a un array de NumPy para permitir el indexado avanzado\n",
    "medias_array = np.array(medias)\n",
    "\n",
    "# Realiza la sustitución:\n",
    "data['AC'] = medias_array[data['AC']]\n",
    "\n",
    "# Comprobar que las categorías corresponden (ahora son los valores medios)\n",
    "print(\"\\nConteo de valores en la columna 'AC' después de la sustitución:\")\n",
    "print(data['AC'].value_counts(dropna=False))\n",
    "\n",
    "# Verificar el tipo de dato\n",
    "print(\"\\nTipo de dato de la columna 'AC' después de la sustitución:\")\n",
    "print(data['AC'].dtype)"
   ]
  },
  {
   "cell_type": "code",
   "execution_count": 4,
   "id": "5ba481e1",
   "metadata": {},
   "outputs": [
    {
     "name": "stdout",
     "output_type": "stream",
     "text": [
      "<class 'pandas.core.frame.DataFrame'>\n",
      "Int64Index: 64410 entries, 1 to 67210\n",
      "Data columns (total 13 columns):\n",
      " #   Column    Non-Null Count  Dtype   \n",
      "---  ------    --------------  -----   \n",
      " 0   POINT_X   64410 non-null  float64 \n",
      " 1   POINT_Y   64410 non-null  float64 \n",
      " 2   PLA       64410 non-null  float64 \n",
      " 3   grid_cod  64410 non-null  int64   \n",
      " 4   A         64410 non-null  float64 \n",
      " 5   AC        64410 non-null  float64 \n",
      " 6   CIB       64410 non-null  float64 \n",
      " 7   CICCB     64410 non-null  float64 \n",
      " 8   CUS       64410 non-null  category\n",
      " 9   DBB       64410 non-null  float64 \n",
      " 10  DOB       64410 non-null  float64 \n",
      " 11  OC        64410 non-null  category\n",
      " 12  P         64410 non-null  float64 \n",
      "dtypes: category(2), float64(10), int64(1)\n",
      "memory usage: 6.0 MB\n",
      "None\n"
     ]
    }
   ],
   "source": [
    "# Transformar variables OC y CUS en categóricas\n",
    "# Usamos .astype('category') para convertir columnas a tipo categórico\n",
    "data['CUS'] = data['CUS'].astype('category')\n",
    "data['OC'] = data['OC'].astype('category')\n",
    "\n",
    "# Verificar la estructura del DataFrame (equivalente a str(data) en R)\n",
    "print(data.info())"
   ]
  },
  {
   "cell_type": "markdown",
   "id": "5cfd53c0",
   "metadata": {},
   "source": [
    "Ahora utilizaremos la columna grid_cod, que es un código que se le da a cada celda, como índice para identificarlas."
   ]
  },
  {
   "cell_type": "code",
   "execution_count": 5,
   "id": "0a0df41c",
   "metadata": {},
   "outputs": [
    {
     "name": "stdout",
     "output_type": "stream",
     "text": [
      "grid_cod es único y se ha usado como índice.\n",
      "\n",
      "Primeras filas del DataFrame transformado:\n",
      "                POINT_X       POINT_Y  PLA          A      AC       CIB  \\\n",
      "grid_cod                                                                  \n",
      "7246      722396.507981  4.365860e+06  0.0  18.179501   18.05  0.271946   \n",
      "7247      722404.245816  4.365860e+06  0.0  18.274900  225.05  0.269777   \n",
      "7248      722411.983652  4.365860e+06  0.0  18.229401  225.05  0.267608   \n",
      "7584      722396.502336  4.365868e+06  0.0  18.300400  225.05  0.272302   \n",
      "7585      722404.240164  4.365868e+06  0.0  18.286400  225.05  0.270117   \n",
      "\n",
      "             CICCB CUS         DBB          DOB OC         P  \n",
      "grid_cod                                                      \n",
      "7246      0.450929   5  855.966980     0.000000  4  1.352900  \n",
      "7247      0.449347   1  847.986023  1110.060059  4  0.436232  \n",
      "7248      0.447738   1  842.000000  1102.219971  4  2.990650  \n",
      "7584      0.451874   1  855.581970     0.000000  4  0.801976  \n",
      "7585      0.450287   1  847.596985  1110.060059  4  0.347718  \n"
     ]
    }
   ],
   "source": [
    "# Verificar si grid_cod es único\n",
    "if data['grid_cod'].nunique() == len(data):\n",
    "    # Si es único, usarlo como índice y eliminar la columna\n",
    "    data = data.set_index('grid_cod')\n",
    "    print(\"grid_cod es único y se ha usado como índice.\")\n",
    "else:\n",
    "    # Si no es único, eliminarlo directamente\n",
    "    # axis=1 indica que se elimina una columna\n",
    "    data = data.drop('grid_cod', axis=1)\n",
    "    print(\"grid_cod no es único y se ha eliminado.\")\n",
    "\n",
    "# Mostrar las primeras filas del dataset transformado\n",
    "print(\"\\nPrimeras filas del DataFrame transformado:\")\n",
    "print(data.head())"
   ]
  },
  {
   "cell_type": "markdown",
   "id": "75dfc601",
   "metadata": {},
   "source": [
    "Hay que convertir la pendiente a porcentaje"
   ]
  },
  {
   "cell_type": "code",
   "execution_count": 6,
   "id": "0a554f10",
   "metadata": {},
   "outputs": [
    {
     "name": "stdout",
     "output_type": "stream",
     "text": [
      "                POINT_X       POINT_Y  PLA          A      AC       CIB  \\\n",
      "grid_cod                                                                  \n",
      "7246      722396.507981  4.365860e+06  0.0  18.179501   18.05  0.271946   \n",
      "7247      722404.245816  4.365860e+06  0.0  18.274900  225.05  0.269777   \n",
      "7248      722411.983652  4.365860e+06  0.0  18.229401  225.05  0.267608   \n",
      "7584      722396.502336  4.365868e+06  0.0  18.300400  225.05  0.272302   \n",
      "7585      722404.240164  4.365868e+06  0.0  18.286400  225.05  0.270117   \n",
      "\n",
      "             CICCB CUS         DBB          DOB OC         P  \n",
      "grid_cod                                                      \n",
      "7246      0.450929   5  855.966980     0.000000  4  2.361695  \n",
      "7247      0.449347   1  847.986023  1110.060059  4  0.761383  \n",
      "7248      0.447738   1  842.000000  1102.219971  4  5.224414  \n",
      "7584      0.451874   1  855.581970     0.000000  4  1.399804  \n",
      "7585      0.450287   1  847.596985  1110.060059  4  0.606890  \n"
     ]
    }
   ],
   "source": [
    "# Convertir grados a radianes\n",
    "data['P'] = (np.tan(data['P'] * (np.pi / 180))) * 100\n",
    "print(data.head())"
   ]
  },
  {
   "cell_type": "markdown",
   "id": "429ca901",
   "metadata": {},
   "source": [
    "Ahora guardamos el resultado"
   ]
  },
  {
   "cell_type": "code",
   "execution_count": 7,
   "id": "2cf7cc9c",
   "metadata": {},
   "outputs": [
    {
     "name": "stdout",
     "output_type": "stream",
     "text": [
      "\n",
      "DataFrame combinado guardado exitosamente como 'data_stored.csv'\n"
     ]
    }
   ],
   "source": [
    "# Guardar el resultado en un nuevo CSV\n",
    "nombre_archivo_salida = \"data_stored.csv\"\n",
    "data.to_csv(nombre_archivo_salida, index=False) # index=False evita guardar el índice de pandas como una columna\n",
    "\n",
    "print(f\"\\nDataFrame combinado guardado exitosamente como '{nombre_archivo_salida}'\")"
   ]
  },
  {
   "cell_type": "code",
   "execution_count": null,
   "id": "79aeb003",
   "metadata": {},
   "outputs": [],
   "source": []
  }
 ],
 "metadata": {
  "kernelspec": {
   "display_name": "Python 3 (ipykernel)",
   "language": "python",
   "name": "python3"
  },
  "language_info": {
   "codemirror_mode": {
    "name": "ipython",
    "version": 3
   },
   "file_extension": ".py",
   "mimetype": "text/x-python",
   "name": "python",
   "nbconvert_exporter": "python",
   "pygments_lexer": "ipython3",
   "version": "3.9.7"
  }
 },
 "nbformat": 4,
 "nbformat_minor": 5
}
